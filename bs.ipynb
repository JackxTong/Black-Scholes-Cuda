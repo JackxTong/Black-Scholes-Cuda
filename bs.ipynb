{
 "cells": [
  {
   "cell_type": "markdown",
   "metadata": {},
   "source": [
    "## Geometric Brownian Motion - putting things together (if time permits)\n",
    "\n",
    "$$dX_t=\\mu X_tdt+\\sigma X_tdW_t$$\n",
    "\n",
    "where $\\mu$, $\\sigma\\in\\mathbb{R}$ and $W_t-W_s\\sim\\mathcal{N}(0, t-s)$.\n",
    "\n",
    "Although it has a closed formula, we will use a Euler discretisation for the simulation.\n",
    "\n",
    "$$X_{t+1}=X_t+\\mu X_t dt+\\sigma X_tdW_t$$"
   ]
  },
  {
   "cell_type": "markdown",
   "metadata": {},
   "source": [
    "### Continuous Geometric Brownian Motion\n",
    "$$\n",
    "dW_t \\sim N(0, dt)\n",
    "$$\n",
    "$$\n",
    "W_t = W_{t-1} + dW_t, \\quad \\text{where } dW_t \\sim N(0, \\sqrt{dt}).\n",
    "$$\n",
    "\n",
    "\n",
    "$$\n",
    "dS_t = \\mu S_t \\, dt + \\sigma S_t \\, dW_t,\n",
    "$$\n",
    "\n",
    "### Discrete Approximation of Brownian Motion\n",
    "$$\n",
    "dW \\sim N(0, \\sqrt{\\Delta t}),\n",
    "$$\n",
    "$$\n",
    "W_t = \\sum_{i=1}^n dW_i,\n",
    "$$\n",
    "\n",
    "$$\n",
    "\\text{Var}(W_t) = n \\cdot \\Delta t\n",
    "$$\n",
    "\n",
    "### In continuous-time process\n",
    "$$\n",
    "\\mathbb{E}[W_t^2] = \\text{Var}(W_t) = T\n",
    "$$\n",
    "\n",
    "### Variance in Black-Scholes model\n",
    "$$\n",
    "\\text{Var}(W(T)) = n \\cdot \\Delta t = T.\n",
    "\n",
    "$$\n",
    "\n",
    "\n"
   ]
  },
  {
   "cell_type": "markdown",
   "metadata": {},
   "source": [
    "$$\n",
    "d_1 = \\frac{\\ln(S / K) + (r + 0.5 \\sigma^2) T}{\\sigma \\sqrt{T}}\n",
    "$$\n",
    "\n",
    "For call:\n",
    "$$\n",
    "\\Delta = N(d1)\n",
    "$$\n",
    "\n",
    "For put:\n",
    "$$\n",
    "\\Delta = N(d1) - 1\n",
    "$$\n",
    "\n",
    "Gamma:\n",
    "$$\n",
    "\\Gamma = \\frac{\\phi(d_1)}{S \\sigma \\sqrt{T}}\n",
    "$$"
   ]
  },
  {
   "cell_type": "code",
   "execution_count": 1,
   "metadata": {},
   "outputs": [
    {
     "name": "stdout",
     "output_type": "stream",
     "text": [
      "Simulation done\n",
      "price: 0.036676083\n",
      "delta 0.6366760730743408\n"
     ]
    }
   ],
   "source": [
    "from base import GBM, Option\n",
    "import torch\n",
    "import matplotlib.pyplot as plt\n",
    "\n",
    "mu, sig = 0.04, 0.15\n",
    "x0, strike = 1.0, 1.0\n",
    "call = Option(mu, sig, x0, strike, option_type='Call', device='cuda')\n",
    "call.simulate(n_paths=100, n_steps=20)\n",
    "print('price:', call.price().detach().cpu().numpy())\n",
    "print('delta', call.compute_delta())\n",
    "\n",
    "# call = Option(mu, sig, x0, strike, option_type='Call', device='cuda')\n",
    "# call.simulate(n_paths=100, n_steps=20)\n",
    "# print('delta and gamma', call.compute_Delta_and_Gamma())\n"
   ]
  },
  {
   "cell_type": "code",
   "execution_count": 2,
   "metadata": {},
   "outputs": [
    {
     "data": {
      "text/plain": [
       "(tensor(0.0308), tensor(0.5607))"
      ]
     },
     "execution_count": 2,
     "metadata": {},
     "output_type": "execute_result"
    }
   ],
   "source": [
    "from base import black_scholes\n",
    "mu, sig = 0.04, 0.15\n",
    "x0, strike = 1.0, 1.0\n",
    "T = 0.2\n",
    "black_scholes(x0, strike, T, mu, sig, option_type='call', return_delta=True)"
   ]
  }
 ],
 "metadata": {
  "kernelspec": {
   "display_name": "bs-venv",
   "language": "python",
   "name": "python3"
  },
  "language_info": {
   "codemirror_mode": {
    "name": "ipython",
    "version": 3
   },
   "file_extension": ".py",
   "mimetype": "text/x-python",
   "name": "python",
   "nbconvert_exporter": "python",
   "pygments_lexer": "ipython3",
   "version": "3.9.19"
  }
 },
 "nbformat": 4,
 "nbformat_minor": 2
}
