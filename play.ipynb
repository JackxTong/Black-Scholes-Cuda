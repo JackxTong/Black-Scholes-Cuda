{
 "cells": [
  {
   "cell_type": "code",
   "execution_count": 4,
   "metadata": {},
   "outputs": [],
   "source": [
    "from base import GBM, Option\n",
    "import torch\n",
    "import matplotlib.pyplot as plt\n",
    "\n"
   ]
  },
  {
   "cell_type": "markdown",
   "metadata": {},
   "source": [
    "# ITM call"
   ]
  },
  {
   "cell_type": "code",
   "execution_count": 5,
   "metadata": {},
   "outputs": [
    {
     "name": "stdout",
     "output_type": "stream",
     "text": [
      "Simulation done\n",
      "price 0.06930823079079662\n",
      "delta 0.5926083326339722\n",
      "price:  0.06961840391159058\n",
      "Delta:  0.5825156569480896\n",
      "Gamma:  2.6025195121765137\n"
     ]
    },
    {
     "data": {
      "text/plain": [
       "0.06961840391159058"
      ]
     },
     "execution_count": 5,
     "metadata": {},
     "output_type": "execute_result"
    }
   ],
   "source": [
    "mu, sig = 0.02, 0.15\n",
    "x0, strike = 1.0, 1.0\n",
    "dt, T = 0.01, 1.0\n",
    "\n",
    "call = Option(mu, sig, x0, strike, dt = 0.01, n_paths=100000, option_type='Call', device='cuda')\n",
    "call.simulate()\n",
    "call.compute_payoff()\n",
    "print('price', call.price)\n",
    "print('delta', call.compute_delta())\n",
    "call.black_scholes(print_=True)"
   ]
  },
  {
   "cell_type": "markdown",
   "metadata": {},
   "source": [
    "# OTM call"
   ]
  },
  {
   "cell_type": "code",
   "execution_count": 6,
   "metadata": {},
   "outputs": [
    {
     "name": "stdout",
     "output_type": "stream",
     "text": [
      "Simulation done\n",
      "price 0.0\n",
      "delta 0.0\n",
      "price:  1.8854780137189664e-07\n",
      "Delta:  5.0961971282958984e-06\n",
      "Gamma:  0.000157269649207592\n"
     ]
    },
    {
     "data": {
      "text/plain": [
       "1.8854780137189664e-07"
      ]
     },
     "execution_count": 6,
     "metadata": {},
     "output_type": "execute_result"
    }
   ],
   "source": [
    "mu, sig = 0.02, 0.15\n",
    "x0, strike = 1.0, 2.0\n",
    "dt, T = 0.01, 1.0\n",
    "\n",
    "call = Option(mu, sig, x0, strike, dt = 0.01, n_paths=100000, option_type='Call', device='cuda')\n",
    "call.simulate()\n",
    "call.compute_payoff()\n",
    "print('price', call.price)\n",
    "print('delta', call.compute_delta())\n",
    "call.black_scholes(print_=True)"
   ]
  },
  {
   "cell_type": "markdown",
   "metadata": {},
   "source": [
    "# ITM call, everything else same but higher S0"
   ]
  },
  {
   "cell_type": "code",
   "execution_count": 7,
   "metadata": {},
   "outputs": [
    {
     "name": "stdout",
     "output_type": "stream",
     "text": [
      "Simulation done\n",
      "price 0.34553626897964484\n",
      "delta 0.5917632579803467\n",
      "price:  0.34809207916259766\n",
      "Delta:  0.5825156569480896\n",
      "Gamma:  0.5205039381980896\n"
     ]
    },
    {
     "data": {
      "text/plain": [
       "0.34809207916259766"
      ]
     },
     "execution_count": 7,
     "metadata": {},
     "output_type": "execute_result"
    }
   ],
   "source": [
    "mu, sig = 0.02, 0.15\n",
    "x0, strike = 5.0, 5.0\n",
    "dt, T = 0.01, 1.0\n",
    "\n",
    "call = Option(mu, sig, x0, strike, dt = 0.01, n_paths=100000, option_type='Call', device='cuda')\n",
    "call.simulate()\n",
    "call.compute_payoff()\n",
    "print('price', call.price)\n",
    "print('delta', call.compute_delta())\n",
    "call.black_scholes(print_=True)"
   ]
  },
  {
   "cell_type": "markdown",
   "metadata": {},
   "source": [
    "some more ideas:\n",
    "\n",
    "Write whole thing in C++\n",
    "\n",
    "use real stock data for IV plot\n",
    "\n",
    "add more greeks, understand different greeks for ITM, ATM, OTM calls/puts"
   ]
  },
  {
   "cell_type": "code",
   "execution_count": null,
   "metadata": {},
   "outputs": [],
   "source": []
  }
 ],
 "metadata": {
  "kernelspec": {
   "display_name": "bs-venv",
   "language": "python",
   "name": "python3"
  },
  "language_info": {
   "codemirror_mode": {
    "name": "ipython",
    "version": 3
   },
   "file_extension": ".py",
   "mimetype": "text/x-python",
   "name": "python",
   "nbconvert_exporter": "python",
   "pygments_lexer": "ipython3",
   "version": "3.9.19"
  }
 },
 "nbformat": 4,
 "nbformat_minor": 2
}
